{
 "cells": [
  {
   "cell_type": "markdown",
   "metadata": {},
   "source": [
    "<center> <h1> Movie Recommender system : by Content-Based Filtering</h1></center> </br>\n",
    "<h2>Deep Learning based Recommender System</h2></br>\n",
    "Traditionally, recommender systems are based on methods such as clustering, nearest neighbor and matrix factorization. However, in recent years, deep learning has yielded tremendous success across multiple domains, from image recognition to natural language processing. Recommender systems have also benefited from deep learning's success. In fact, today's state-of-the-art recommender systems such as those at YouTube and Amazon are powered by complex deep learning systems, and less so on traditional methods.\n",
    "<img src='images\\MovieRecommender.jpg' align=center width=\"700\" height=\"700\">"
   ]
  },
  {
   "cell_type": "markdown",
   "metadata": {},
   "source": [
    "<h2>Why this notebook?</h2></br>\n",
    "While reading through the many useful notebooks here that covers the basics of recommender systems using traditional methods such as matrix factorization, I noticed that there is a lack of tutorials that cover deep learning based recommender systems."
   ]
  },
  {
   "cell_type": "markdown",
   "metadata": {},
   "source": [
    "#### Note:\n",
    "this model is made from what I learn from Andrew Ng in course 3 in machine learning specialization"
   ]
  },
  {
   "cell_type": "markdown",
   "metadata": {},
   "source": [
    "<h4>Ready ! :</h4>\n",
    "\n",
    "* 📚 Libraries\n",
    "\n",
    "* 📕 Load Data\n",
    "\n",
    "* 🔍 EDA\n",
    "\n",
    "* 🪚 Preprocessing\n",
    "\n",
    "* 🏗️ Neural Network Trainning\n",
    "\n",
    "* 📏 Prediction\n"
   ]
  },
  {
   "cell_type": "markdown",
   "metadata": {},
   "source": [
    "### original Training data\n",
    "https://www.kaggle.com/datasets/grouplens/movielens-20m-dataset </br>\n",
    "These files contain 1,000,209 anonymous ratings of approximately 3,900 movies\n",
    "made by 6,040 MovieLens users who joined MovieLens in 2000"
   ]
  },
  {
   "cell_type": "markdown",
   "metadata": {},
   "source": [
    "## 📚 Libraries"
   ]
  },
  {
   "cell_type": "code",
   "execution_count": 112,
   "metadata": {
    "deletable": false,
    "id": "Xu-w_RmNwCV5"
   },
   "outputs": [],
   "source": [
    "import numpy as np\n",
    "import numpy.ma as ma # for masking\n",
    "import pandas as pd\n",
    "import tensorflow as tf  # for Neural Network\n",
    "from tensorflow import keras\n",
    "from sklearn.preprocessing import StandardScaler, MinMaxScaler # for normalization & data preprocessing\n",
    "from sklearn.model_selection import train_test_split # data splitting\n",
    "import matplotlib.pyplot as plt # for visualization\n",
    "import seaborn as sns #for color palette"
   ]
  },
  {
   "cell_type": "markdown",
   "metadata": {},
   "source": [
    "### Already Engineered features\n",
    "<b><span style=\"color : red;\">Movie content :</span></b></br>\n",
    "Movie release year <b>+</b> Movie's genre's(14 genres) <b>+</b> Average rating derived from user ratings</br>\n",
    "\n",
    "\n",
    "<b><span style=\"color : red;\">User content :</span></b></br> Rating made by the users for each genre. </br>\n",
    "\n",
    "\n",
    "<b><span style=\"color : red;\">The Target :</span></b></br> y, is the average rating for each user"
   ]
  },
  {
   "cell_type": "markdown",
   "metadata": {},
   "source": [
    "## 📕 Load Data"
   ]
  },
  {
   "cell_type": "code",
   "execution_count": 113,
   "metadata": {},
   "outputs": [],
   "source": [
    "item_names = ['movieid','year','ave rating','Action','Adventure','Animation','Children','Comedy','Crime', 'Documentary','Drama','Fantasy','Horror','Mystery','Romance','Sci-Fi','Thriller']\n",
    "user_genres_names = ['userid','rating' 'count','rating' 'ave','Action','Adventure','Animation','Children','Comedy','Crime','Documentary','Drama','Fantasy','Horror','Mystery','Romance','Sci-Fi','Thriller']"
   ]
  },
  {
   "cell_type": "code",
   "execution_count": 114,
   "metadata": {},
   "outputs": [
    {
     "data": {
      "text/html": [
       "<div>\n",
       "<style scoped>\n",
       "    .dataframe tbody tr th:only-of-type {\n",
       "        vertical-align: middle;\n",
       "    }\n",
       "\n",
       "    .dataframe tbody tr th {\n",
       "        vertical-align: top;\n",
       "    }\n",
       "\n",
       "    .dataframe thead th {\n",
       "        text-align: right;\n",
       "    }\n",
       "</style>\n",
       "<table border=\"1\" class=\"dataframe\">\n",
       "  <thead>\n",
       "    <tr style=\"text-align: right;\">\n",
       "      <th></th>\n",
       "      <th>movieid</th>\n",
       "      <th>year</th>\n",
       "      <th>ave rating</th>\n",
       "      <th>Action</th>\n",
       "      <th>Adventure</th>\n",
       "      <th>Animation</th>\n",
       "      <th>Children</th>\n",
       "      <th>Comedy</th>\n",
       "      <th>Crime</th>\n",
       "      <th>Documentary</th>\n",
       "      <th>Drama</th>\n",
       "      <th>Fantasy</th>\n",
       "      <th>Horror</th>\n",
       "      <th>Mystery</th>\n",
       "      <th>Romance</th>\n",
       "      <th>Sci-Fi</th>\n",
       "      <th>Thriller</th>\n",
       "    </tr>\n",
       "  </thead>\n",
       "  <tbody>\n",
       "    <tr>\n",
       "      <th>0</th>\n",
       "      <td>6874</td>\n",
       "      <td>2003</td>\n",
       "      <td>4.0</td>\n",
       "      <td>1</td>\n",
       "      <td>0</td>\n",
       "      <td>0</td>\n",
       "      <td>0</td>\n",
       "      <td>0</td>\n",
       "      <td>1</td>\n",
       "      <td>0</td>\n",
       "      <td>0</td>\n",
       "      <td>0</td>\n",
       "      <td>0</td>\n",
       "      <td>0</td>\n",
       "      <td>0</td>\n",
       "      <td>0</td>\n",
       "      <td>1</td>\n",
       "    </tr>\n",
       "    <tr>\n",
       "      <th>1</th>\n",
       "      <td>8798</td>\n",
       "      <td>2004</td>\n",
       "      <td>3.8</td>\n",
       "      <td>1</td>\n",
       "      <td>0</td>\n",
       "      <td>0</td>\n",
       "      <td>0</td>\n",
       "      <td>0</td>\n",
       "      <td>1</td>\n",
       "      <td>0</td>\n",
       "      <td>1</td>\n",
       "      <td>0</td>\n",
       "      <td>0</td>\n",
       "      <td>0</td>\n",
       "      <td>0</td>\n",
       "      <td>0</td>\n",
       "      <td>1</td>\n",
       "    </tr>\n",
       "    <tr>\n",
       "      <th>2</th>\n",
       "      <td>46970</td>\n",
       "      <td>2006</td>\n",
       "      <td>3.2</td>\n",
       "      <td>1</td>\n",
       "      <td>0</td>\n",
       "      <td>0</td>\n",
       "      <td>0</td>\n",
       "      <td>1</td>\n",
       "      <td>0</td>\n",
       "      <td>0</td>\n",
       "      <td>0</td>\n",
       "      <td>0</td>\n",
       "      <td>0</td>\n",
       "      <td>0</td>\n",
       "      <td>0</td>\n",
       "      <td>0</td>\n",
       "      <td>0</td>\n",
       "    </tr>\n",
       "    <tr>\n",
       "      <th>3</th>\n",
       "      <td>48516</td>\n",
       "      <td>2006</td>\n",
       "      <td>4.3</td>\n",
       "      <td>0</td>\n",
       "      <td>0</td>\n",
       "      <td>0</td>\n",
       "      <td>0</td>\n",
       "      <td>0</td>\n",
       "      <td>1</td>\n",
       "      <td>0</td>\n",
       "      <td>1</td>\n",
       "      <td>0</td>\n",
       "      <td>0</td>\n",
       "      <td>0</td>\n",
       "      <td>0</td>\n",
       "      <td>0</td>\n",
       "      <td>1</td>\n",
       "    </tr>\n",
       "    <tr>\n",
       "      <th>4</th>\n",
       "      <td>58559</td>\n",
       "      <td>2008</td>\n",
       "      <td>4.2</td>\n",
       "      <td>1</td>\n",
       "      <td>0</td>\n",
       "      <td>0</td>\n",
       "      <td>0</td>\n",
       "      <td>0</td>\n",
       "      <td>1</td>\n",
       "      <td>0</td>\n",
       "      <td>1</td>\n",
       "      <td>0</td>\n",
       "      <td>0</td>\n",
       "      <td>0</td>\n",
       "      <td>0</td>\n",
       "      <td>0</td>\n",
       "      <td>0</td>\n",
       "    </tr>\n",
       "  </tbody>\n",
       "</table>\n",
       "</div>"
      ],
      "text/plain": [
       "   movieid  year  ave rating  Action  Adventure  Animation  Children  Comedy  \\\n",
       "0     6874  2003         4.0       1          0          0         0       0   \n",
       "1     8798  2004         3.8       1          0          0         0       0   \n",
       "2    46970  2006         3.2       1          0          0         0       1   \n",
       "3    48516  2006         4.3       0          0          0         0       0   \n",
       "4    58559  2008         4.2       1          0          0         0       0   \n",
       "\n",
       "   Crime  Documentary  Drama  Fantasy  Horror  Mystery  Romance  Sci-Fi  \\\n",
       "0      1            0      0        0       0        0        0       0   \n",
       "1      1            0      1        0       0        0        0       0   \n",
       "2      0            0      0        0       0        0        0       0   \n",
       "3      1            0      1        0       0        0        0       0   \n",
       "4      1            0      1        0       0        0        0       0   \n",
       "\n",
       "   Thriller  \n",
       "0         1  \n",
       "1         1  \n",
       "2         0  \n",
       "3         1  \n",
       "4         0  "
      ]
     },
     "execution_count": 114,
     "metadata": {},
     "output_type": "execute_result"
    }
   ],
   "source": [
    "item_features = pd.read_csv('./data/content_item_train.csv', names = item_names)\n",
    "item_features.head()"
   ]
  },
  {
   "cell_type": "markdown",
   "metadata": {},
   "source": [
    "<b><span style=\"color : red;\">Item Features :</span></b></br>\n",
    "Movie release year <b>+</b> Movie's genre's(14 genres) <b>+</b> Average rating derived from user ratings</br>"
   ]
  },
  {
   "cell_type": "code",
   "execution_count": 115,
   "metadata": {
    "scrolled": true
   },
   "outputs": [
    {
     "data": {
      "text/html": [
       "<div>\n",
       "<style scoped>\n",
       "    .dataframe tbody tr th:only-of-type {\n",
       "        vertical-align: middle;\n",
       "    }\n",
       "\n",
       "    .dataframe tbody tr th {\n",
       "        vertical-align: top;\n",
       "    }\n",
       "\n",
       "    .dataframe thead th {\n",
       "        text-align: right;\n",
       "    }\n",
       "</style>\n",
       "<table border=\"1\" class=\"dataframe\">\n",
       "  <thead>\n",
       "    <tr style=\"text-align: right;\">\n",
       "      <th></th>\n",
       "      <th>userid</th>\n",
       "      <th>ratingcount</th>\n",
       "      <th>ratingave</th>\n",
       "      <th>Action</th>\n",
       "      <th>Adventure</th>\n",
       "      <th>Animation</th>\n",
       "      <th>Children</th>\n",
       "      <th>Comedy</th>\n",
       "      <th>Crime</th>\n",
       "      <th>Documentary</th>\n",
       "      <th>Drama</th>\n",
       "      <th>Fantasy</th>\n",
       "      <th>Horror</th>\n",
       "      <th>Mystery</th>\n",
       "      <th>Romance</th>\n",
       "      <th>Sci-Fi</th>\n",
       "      <th>Thriller</th>\n",
       "    </tr>\n",
       "  </thead>\n",
       "  <tbody>\n",
       "    <tr>\n",
       "      <th>0</th>\n",
       "      <td>2.0</td>\n",
       "      <td>22.0</td>\n",
       "      <td>4.0</td>\n",
       "      <td>4.0</td>\n",
       "      <td>4.2</td>\n",
       "      <td>0.0</td>\n",
       "      <td>0.0</td>\n",
       "      <td>4.0</td>\n",
       "      <td>4.1</td>\n",
       "      <td>4.0</td>\n",
       "      <td>4.0</td>\n",
       "      <td>0.0</td>\n",
       "      <td>3.0</td>\n",
       "      <td>4.0</td>\n",
       "      <td>0.0</td>\n",
       "      <td>3.9</td>\n",
       "      <td>3.9</td>\n",
       "    </tr>\n",
       "    <tr>\n",
       "      <th>1</th>\n",
       "      <td>2.0</td>\n",
       "      <td>22.0</td>\n",
       "      <td>4.0</td>\n",
       "      <td>4.0</td>\n",
       "      <td>4.2</td>\n",
       "      <td>0.0</td>\n",
       "      <td>0.0</td>\n",
       "      <td>4.0</td>\n",
       "      <td>4.1</td>\n",
       "      <td>4.0</td>\n",
       "      <td>4.0</td>\n",
       "      <td>0.0</td>\n",
       "      <td>3.0</td>\n",
       "      <td>4.0</td>\n",
       "      <td>0.0</td>\n",
       "      <td>3.9</td>\n",
       "      <td>3.9</td>\n",
       "    </tr>\n",
       "    <tr>\n",
       "      <th>2</th>\n",
       "      <td>2.0</td>\n",
       "      <td>22.0</td>\n",
       "      <td>4.0</td>\n",
       "      <td>4.0</td>\n",
       "      <td>4.2</td>\n",
       "      <td>0.0</td>\n",
       "      <td>0.0</td>\n",
       "      <td>4.0</td>\n",
       "      <td>4.1</td>\n",
       "      <td>4.0</td>\n",
       "      <td>4.0</td>\n",
       "      <td>0.0</td>\n",
       "      <td>3.0</td>\n",
       "      <td>4.0</td>\n",
       "      <td>0.0</td>\n",
       "      <td>3.9</td>\n",
       "      <td>3.9</td>\n",
       "    </tr>\n",
       "    <tr>\n",
       "      <th>3</th>\n",
       "      <td>2.0</td>\n",
       "      <td>22.0</td>\n",
       "      <td>4.0</td>\n",
       "      <td>4.0</td>\n",
       "      <td>4.2</td>\n",
       "      <td>0.0</td>\n",
       "      <td>0.0</td>\n",
       "      <td>4.0</td>\n",
       "      <td>4.1</td>\n",
       "      <td>4.0</td>\n",
       "      <td>4.0</td>\n",
       "      <td>0.0</td>\n",
       "      <td>3.0</td>\n",
       "      <td>4.0</td>\n",
       "      <td>0.0</td>\n",
       "      <td>3.9</td>\n",
       "      <td>3.9</td>\n",
       "    </tr>\n",
       "    <tr>\n",
       "      <th>4</th>\n",
       "      <td>2.0</td>\n",
       "      <td>22.0</td>\n",
       "      <td>4.0</td>\n",
       "      <td>4.0</td>\n",
       "      <td>4.2</td>\n",
       "      <td>0.0</td>\n",
       "      <td>0.0</td>\n",
       "      <td>4.0</td>\n",
       "      <td>4.1</td>\n",
       "      <td>4.0</td>\n",
       "      <td>4.0</td>\n",
       "      <td>0.0</td>\n",
       "      <td>3.0</td>\n",
       "      <td>4.0</td>\n",
       "      <td>0.0</td>\n",
       "      <td>3.9</td>\n",
       "      <td>3.9</td>\n",
       "    </tr>\n",
       "  </tbody>\n",
       "</table>\n",
       "</div>"
      ],
      "text/plain": [
       "   userid  ratingcount  ratingave  Action  Adventure  Animation  Children  \\\n",
       "0     2.0         22.0        4.0     4.0        4.2        0.0       0.0   \n",
       "1     2.0         22.0        4.0     4.0        4.2        0.0       0.0   \n",
       "2     2.0         22.0        4.0     4.0        4.2        0.0       0.0   \n",
       "3     2.0         22.0        4.0     4.0        4.2        0.0       0.0   \n",
       "4     2.0         22.0        4.0     4.0        4.2        0.0       0.0   \n",
       "\n",
       "   Comedy  Crime  Documentary  Drama  Fantasy  Horror  Mystery  Romance  \\\n",
       "0     4.0    4.1          4.0    4.0      0.0     3.0      4.0      0.0   \n",
       "1     4.0    4.1          4.0    4.0      0.0     3.0      4.0      0.0   \n",
       "2     4.0    4.1          4.0    4.0      0.0     3.0      4.0      0.0   \n",
       "3     4.0    4.1          4.0    4.0      0.0     3.0      4.0      0.0   \n",
       "4     4.0    4.1          4.0    4.0      0.0     3.0      4.0      0.0   \n",
       "\n",
       "   Sci-Fi  Thriller  \n",
       "0     3.9       3.9  \n",
       "1     3.9       3.9  \n",
       "2     3.9       3.9  \n",
       "3     3.9       3.9  \n",
       "4     3.9       3.9  "
      ]
     },
     "execution_count": 115,
     "metadata": {},
     "output_type": "execute_result"
    }
   ],
   "source": [
    "user_features = pd.read_csv('./data/content_user_train.csv', names = user_genres_names)\n",
    "user_features.head()"
   ]
  },
  {
   "cell_type": "markdown",
   "metadata": {},
   "source": [
    "<b><span style=\"color : red;\">User Features :</span></b></br> Rating made by the users for each genre. </br></br>\n",
    "<pre>\n",
    "NOTICE :1- Some ratings are repeated to boost the number of training examples of underrepresented genre's.\n",
    "        2- user id, rating count & rating average are available but not included in the training or prediction content.\n",
    "        carried with dataset because they are useful in interpreting data.\n",
    "</pre>"
   ]
  },
  {
   "cell_type": "code",
   "execution_count": 116,
   "metadata": {},
   "outputs": [
    {
     "data": {
      "text/html": [
       "<div>\n",
       "<style scoped>\n",
       "    .dataframe tbody tr th:only-of-type {\n",
       "        vertical-align: middle;\n",
       "    }\n",
       "\n",
       "    .dataframe tbody tr th {\n",
       "        vertical-align: top;\n",
       "    }\n",
       "\n",
       "    .dataframe thead th {\n",
       "        text-align: right;\n",
       "    }\n",
       "</style>\n",
       "<table border=\"1\" class=\"dataframe\">\n",
       "  <thead>\n",
       "    <tr style=\"text-align: right;\">\n",
       "      <th></th>\n",
       "      <th>avg_rating</th>\n",
       "    </tr>\n",
       "  </thead>\n",
       "  <tbody>\n",
       "    <tr>\n",
       "      <th>0</th>\n",
       "      <td>4.0</td>\n",
       "    </tr>\n",
       "    <tr>\n",
       "      <th>1</th>\n",
       "      <td>3.5</td>\n",
       "    </tr>\n",
       "    <tr>\n",
       "      <th>2</th>\n",
       "      <td>4.0</td>\n",
       "    </tr>\n",
       "    <tr>\n",
       "      <th>3</th>\n",
       "      <td>4.0</td>\n",
       "    </tr>\n",
       "    <tr>\n",
       "      <th>4</th>\n",
       "      <td>4.5</td>\n",
       "    </tr>\n",
       "  </tbody>\n",
       "</table>\n",
       "</div>"
      ],
      "text/plain": [
       "   avg_rating\n",
       "0         4.0\n",
       "1         3.5\n",
       "2         4.0\n",
       "3         4.0\n",
       "4         4.5"
      ]
     },
     "execution_count": 116,
     "metadata": {},
     "output_type": "execute_result"
    }
   ],
   "source": [
    "y_UserAvgRating = pd.read_csv('./data/content_y_train.csv', names = [\"avg_rating\"])\n",
    "y_UserAvgRating.head()"
   ]
  },
  {
   "cell_type": "markdown",
   "metadata": {},
   "source": [
    "<b><span style=\"color : red;\">The Target :</span></b></br> y, is the average rating for each user"
   ]
  },
  {
   "cell_type": "markdown",
   "metadata": {},
   "source": [
    "## 🔍 Exploratory Data Analysis"
   ]
  },
  {
   "cell_type": "markdown",
   "metadata": {},
   "source": [
    "Types & memory:"
   ]
  },
  {
   "cell_type": "code",
   "execution_count": 117,
   "metadata": {},
   "outputs": [
    {
     "name": "stdout",
     "output_type": "stream",
     "text": [
      "<class 'pandas.core.frame.DataFrame'>\n",
      "RangeIndex: 50884 entries, 0 to 50883\n",
      "Data columns (total 17 columns):\n",
      " #   Column       Non-Null Count  Dtype  \n",
      "---  ------       --------------  -----  \n",
      " 0   movieid      50884 non-null  int64  \n",
      " 1   year         50884 non-null  int64  \n",
      " 2   ave rating   50884 non-null  float64\n",
      " 3   Action       50884 non-null  int64  \n",
      " 4   Adventure    50884 non-null  int64  \n",
      " 5   Animation    50884 non-null  int64  \n",
      " 6   Children     50884 non-null  int64  \n",
      " 7   Comedy       50884 non-null  int64  \n",
      " 8   Crime        50884 non-null  int64  \n",
      " 9   Documentary  50884 non-null  int64  \n",
      " 10  Drama        50884 non-null  int64  \n",
      " 11  Fantasy      50884 non-null  int64  \n",
      " 12  Horror       50884 non-null  int64  \n",
      " 13  Mystery      50884 non-null  int64  \n",
      " 14  Romance      50884 non-null  int64  \n",
      " 15  Sci-Fi       50884 non-null  int64  \n",
      " 16  Thriller     50884 non-null  int64  \n",
      "dtypes: float64(1), int64(16)\n",
      "memory usage: 6.6 MB\n"
     ]
    }
   ],
   "source": [
    "item_features.info()"
   ]
  },
  {
   "cell_type": "code",
   "execution_count": 118,
   "metadata": {},
   "outputs": [
    {
     "name": "stdout",
     "output_type": "stream",
     "text": [
      "<class 'pandas.core.frame.DataFrame'>\n",
      "RangeIndex: 50884 entries, 0 to 50883\n",
      "Data columns (total 17 columns):\n",
      " #   Column       Non-Null Count  Dtype  \n",
      "---  ------       --------------  -----  \n",
      " 0   userid       50884 non-null  float64\n",
      " 1   ratingcount  50884 non-null  float64\n",
      " 2   ratingave    50884 non-null  float64\n",
      " 3   Action       50884 non-null  float64\n",
      " 4   Adventure    50884 non-null  float64\n",
      " 5   Animation    50884 non-null  float64\n",
      " 6   Children     50884 non-null  float64\n",
      " 7   Comedy       50884 non-null  float64\n",
      " 8   Crime        50884 non-null  float64\n",
      " 9   Documentary  50884 non-null  float64\n",
      " 10  Drama        50884 non-null  float64\n",
      " 11  Fantasy      50884 non-null  float64\n",
      " 12  Horror       50884 non-null  float64\n",
      " 13  Mystery      50884 non-null  float64\n",
      " 14  Romance      50884 non-null  float64\n",
      " 15  Sci-Fi       50884 non-null  float64\n",
      " 16  Thriller     50884 non-null  float64\n",
      "dtypes: float64(17)\n",
      "memory usage: 6.6 MB\n"
     ]
    }
   ],
   "source": [
    "user_features.info()"
   ]
  },
  {
   "cell_type": "markdown",
   "metadata": {},
   "source": [
    "⭕ feedback: No objects need to be handled + memory usage is 6.6 MB...great!😀"
   ]
  },
  {
   "cell_type": "markdown",
   "metadata": {},
   "source": [
    "Shapes"
   ]
  },
  {
   "cell_type": "code",
   "execution_count": 119,
   "metadata": {},
   "outputs": [
    {
     "name": "stdout",
     "output_type": "stream",
     "text": [
      "(50884, 17)\n",
      "(50884, 17)\n",
      "(50884, 1)\n"
     ]
    }
   ],
   "source": [
    "print(item_features.shape)\n",
    "print(user_features.shape)\n",
    "print(y_UserAvgRating.shape)"
   ]
  },
  {
   "cell_type": "markdown",
   "metadata": {},
   "source": [
    "⭕ feedback: equality of rows will be useful in neural network training...great!😀"
   ]
  },
  {
   "cell_type": "markdown",
   "metadata": {},
   "source": [
    "🧮Statstical informations"
   ]
  },
  {
   "cell_type": "code",
   "execution_count": 120,
   "metadata": {},
   "outputs": [
    {
     "data": {
      "text/html": [
       "<div>\n",
       "<style scoped>\n",
       "    .dataframe tbody tr th:only-of-type {\n",
       "        vertical-align: middle;\n",
       "    }\n",
       "\n",
       "    .dataframe tbody tr th {\n",
       "        vertical-align: top;\n",
       "    }\n",
       "\n",
       "    .dataframe thead th {\n",
       "        text-align: right;\n",
       "    }\n",
       "</style>\n",
       "<table border=\"1\" class=\"dataframe\">\n",
       "  <thead>\n",
       "    <tr style=\"text-align: right;\">\n",
       "      <th></th>\n",
       "      <th>movieid</th>\n",
       "      <th>year</th>\n",
       "      <th>ave rating</th>\n",
       "      <th>Action</th>\n",
       "      <th>Adventure</th>\n",
       "      <th>Animation</th>\n",
       "      <th>Children</th>\n",
       "      <th>Comedy</th>\n",
       "      <th>Crime</th>\n",
       "      <th>Documentary</th>\n",
       "      <th>Drama</th>\n",
       "      <th>Fantasy</th>\n",
       "      <th>Horror</th>\n",
       "      <th>Mystery</th>\n",
       "      <th>Romance</th>\n",
       "      <th>Sci-Fi</th>\n",
       "      <th>Thriller</th>\n",
       "    </tr>\n",
       "  </thead>\n",
       "  <tbody>\n",
       "    <tr>\n",
       "      <th>count</th>\n",
       "      <td>50884.0</td>\n",
       "      <td>50884.0</td>\n",
       "      <td>50884.0</td>\n",
       "      <td>50884.0</td>\n",
       "      <td>50884.0</td>\n",
       "      <td>50884.0</td>\n",
       "      <td>50884.0</td>\n",
       "      <td>50884.0</td>\n",
       "      <td>50884.0</td>\n",
       "      <td>50884.0</td>\n",
       "      <td>50884.0</td>\n",
       "      <td>50884.0</td>\n",
       "      <td>50884.0</td>\n",
       "      <td>50884.0</td>\n",
       "      <td>50884.0</td>\n",
       "      <td>50884.0</td>\n",
       "      <td>50884.0</td>\n",
       "    </tr>\n",
       "    <tr>\n",
       "      <th>mean</th>\n",
       "      <td>39901.5</td>\n",
       "      <td>2005.8</td>\n",
       "      <td>3.6</td>\n",
       "      <td>0.3</td>\n",
       "      <td>0.3</td>\n",
       "      <td>0.2</td>\n",
       "      <td>0.2</td>\n",
       "      <td>0.4</td>\n",
       "      <td>0.2</td>\n",
       "      <td>0.1</td>\n",
       "      <td>0.3</td>\n",
       "      <td>0.2</td>\n",
       "      <td>0.1</td>\n",
       "      <td>0.2</td>\n",
       "      <td>0.1</td>\n",
       "      <td>0.2</td>\n",
       "      <td>0.3</td>\n",
       "    </tr>\n",
       "    <tr>\n",
       "      <th>std</th>\n",
       "      <td>37778.6</td>\n",
       "      <td>4.0</td>\n",
       "      <td>0.4</td>\n",
       "      <td>0.5</td>\n",
       "      <td>0.5</td>\n",
       "      <td>0.4</td>\n",
       "      <td>0.4</td>\n",
       "      <td>0.5</td>\n",
       "      <td>0.4</td>\n",
       "      <td>0.3</td>\n",
       "      <td>0.5</td>\n",
       "      <td>0.4</td>\n",
       "      <td>0.3</td>\n",
       "      <td>0.4</td>\n",
       "      <td>0.3</td>\n",
       "      <td>0.4</td>\n",
       "      <td>0.5</td>\n",
       "    </tr>\n",
       "    <tr>\n",
       "      <th>min</th>\n",
       "      <td>4054.0</td>\n",
       "      <td>2001.0</td>\n",
       "      <td>1.9</td>\n",
       "      <td>0.0</td>\n",
       "      <td>0.0</td>\n",
       "      <td>0.0</td>\n",
       "      <td>0.0</td>\n",
       "      <td>0.0</td>\n",
       "      <td>0.0</td>\n",
       "      <td>0.0</td>\n",
       "      <td>0.0</td>\n",
       "      <td>0.0</td>\n",
       "      <td>0.0</td>\n",
       "      <td>0.0</td>\n",
       "      <td>0.0</td>\n",
       "      <td>0.0</td>\n",
       "      <td>0.0</td>\n",
       "    </tr>\n",
       "    <tr>\n",
       "      <th>25%</th>\n",
       "      <td>6218.0</td>\n",
       "      <td>2002.0</td>\n",
       "      <td>3.4</td>\n",
       "      <td>0.0</td>\n",
       "      <td>0.0</td>\n",
       "      <td>0.0</td>\n",
       "      <td>0.0</td>\n",
       "      <td>0.0</td>\n",
       "      <td>0.0</td>\n",
       "      <td>0.0</td>\n",
       "      <td>0.0</td>\n",
       "      <td>0.0</td>\n",
       "      <td>0.0</td>\n",
       "      <td>0.0</td>\n",
       "      <td>0.0</td>\n",
       "      <td>0.0</td>\n",
       "      <td>0.0</td>\n",
       "    </tr>\n",
       "    <tr>\n",
       "      <th>50%</th>\n",
       "      <td>33004.0</td>\n",
       "      <td>2005.0</td>\n",
       "      <td>3.7</td>\n",
       "      <td>0.0</td>\n",
       "      <td>0.0</td>\n",
       "      <td>0.0</td>\n",
       "      <td>0.0</td>\n",
       "      <td>0.0</td>\n",
       "      <td>0.0</td>\n",
       "      <td>0.0</td>\n",
       "      <td>0.0</td>\n",
       "      <td>0.0</td>\n",
       "      <td>0.0</td>\n",
       "      <td>0.0</td>\n",
       "      <td>0.0</td>\n",
       "      <td>0.0</td>\n",
       "      <td>0.0</td>\n",
       "    </tr>\n",
       "    <tr>\n",
       "      <th>75%</th>\n",
       "      <td>66097.0</td>\n",
       "      <td>2009.0</td>\n",
       "      <td>3.9</td>\n",
       "      <td>1.0</td>\n",
       "      <td>1.0</td>\n",
       "      <td>0.0</td>\n",
       "      <td>0.0</td>\n",
       "      <td>1.0</td>\n",
       "      <td>0.0</td>\n",
       "      <td>0.0</td>\n",
       "      <td>1.0</td>\n",
       "      <td>0.0</td>\n",
       "      <td>0.0</td>\n",
       "      <td>0.0</td>\n",
       "      <td>0.0</td>\n",
       "      <td>0.0</td>\n",
       "      <td>1.0</td>\n",
       "    </tr>\n",
       "    <tr>\n",
       "      <th>max</th>\n",
       "      <td>187593.0</td>\n",
       "      <td>2018.0</td>\n",
       "      <td>4.3</td>\n",
       "      <td>1.0</td>\n",
       "      <td>1.0</td>\n",
       "      <td>1.0</td>\n",
       "      <td>1.0</td>\n",
       "      <td>1.0</td>\n",
       "      <td>1.0</td>\n",
       "      <td>1.0</td>\n",
       "      <td>1.0</td>\n",
       "      <td>1.0</td>\n",
       "      <td>1.0</td>\n",
       "      <td>1.0</td>\n",
       "      <td>1.0</td>\n",
       "      <td>1.0</td>\n",
       "      <td>1.0</td>\n",
       "    </tr>\n",
       "  </tbody>\n",
       "</table>\n",
       "</div>"
      ],
      "text/plain": [
       "        movieid     year  ave rating   Action  Adventure  Animation  Children  \\\n",
       "count   50884.0  50884.0     50884.0  50884.0    50884.0    50884.0   50884.0   \n",
       "mean    39901.5   2005.8         3.6      0.3        0.3        0.2       0.2   \n",
       "std     37778.6      4.0         0.4      0.5        0.5        0.4       0.4   \n",
       "min      4054.0   2001.0         1.9      0.0        0.0        0.0       0.0   \n",
       "25%      6218.0   2002.0         3.4      0.0        0.0        0.0       0.0   \n",
       "50%     33004.0   2005.0         3.7      0.0        0.0        0.0       0.0   \n",
       "75%     66097.0   2009.0         3.9      1.0        1.0        0.0       0.0   \n",
       "max    187593.0   2018.0         4.3      1.0        1.0        1.0       1.0   \n",
       "\n",
       "        Comedy    Crime  Documentary    Drama  Fantasy   Horror  Mystery  \\\n",
       "count  50884.0  50884.0      50884.0  50884.0  50884.0  50884.0  50884.0   \n",
       "mean       0.4      0.2          0.1      0.3      0.2      0.1      0.2   \n",
       "std        0.5      0.4          0.3      0.5      0.4      0.3      0.4   \n",
       "min        0.0      0.0          0.0      0.0      0.0      0.0      0.0   \n",
       "25%        0.0      0.0          0.0      0.0      0.0      0.0      0.0   \n",
       "50%        0.0      0.0          0.0      0.0      0.0      0.0      0.0   \n",
       "75%        1.0      0.0          0.0      1.0      0.0      0.0      0.0   \n",
       "max        1.0      1.0          1.0      1.0      1.0      1.0      1.0   \n",
       "\n",
       "       Romance   Sci-Fi  Thriller  \n",
       "count  50884.0  50884.0   50884.0  \n",
       "mean       0.1      0.2       0.3  \n",
       "std        0.3      0.4       0.5  \n",
       "min        0.0      0.0       0.0  \n",
       "25%        0.0      0.0       0.0  \n",
       "50%        0.0      0.0       0.0  \n",
       "75%        0.0      0.0       1.0  \n",
       "max        1.0      1.0       1.0  "
      ]
     },
     "execution_count": 120,
     "metadata": {},
     "output_type": "execute_result"
    }
   ],
   "source": [
    "item_features.describe()"
   ]
  },
  {
   "cell_type": "code",
   "execution_count": 121,
   "metadata": {},
   "outputs": [
    {
     "data": {
      "text/html": [
       "<div>\n",
       "<style scoped>\n",
       "    .dataframe tbody tr th:only-of-type {\n",
       "        vertical-align: middle;\n",
       "    }\n",
       "\n",
       "    .dataframe tbody tr th {\n",
       "        vertical-align: top;\n",
       "    }\n",
       "\n",
       "    .dataframe thead th {\n",
       "        text-align: right;\n",
       "    }\n",
       "</style>\n",
       "<table border=\"1\" class=\"dataframe\">\n",
       "  <thead>\n",
       "    <tr style=\"text-align: right;\">\n",
       "      <th></th>\n",
       "      <th>userid</th>\n",
       "      <th>ratingcount</th>\n",
       "      <th>ratingave</th>\n",
       "      <th>Action</th>\n",
       "      <th>Adventure</th>\n",
       "      <th>Animation</th>\n",
       "      <th>Children</th>\n",
       "      <th>Comedy</th>\n",
       "      <th>Crime</th>\n",
       "      <th>Documentary</th>\n",
       "      <th>Drama</th>\n",
       "      <th>Fantasy</th>\n",
       "      <th>Horror</th>\n",
       "      <th>Mystery</th>\n",
       "      <th>Romance</th>\n",
       "      <th>Sci-Fi</th>\n",
       "      <th>Thriller</th>\n",
       "    </tr>\n",
       "  </thead>\n",
       "  <tbody>\n",
       "    <tr>\n",
       "      <th>count</th>\n",
       "      <td>50884.0</td>\n",
       "      <td>50884.0</td>\n",
       "      <td>50884.0</td>\n",
       "      <td>50884.0</td>\n",
       "      <td>50884.0</td>\n",
       "      <td>50884.0</td>\n",
       "      <td>50884.0</td>\n",
       "      <td>50884.0</td>\n",
       "      <td>50884.0</td>\n",
       "      <td>50884.0</td>\n",
       "      <td>50884.0</td>\n",
       "      <td>50884.0</td>\n",
       "      <td>50884.0</td>\n",
       "      <td>50884.0</td>\n",
       "      <td>50884.0</td>\n",
       "      <td>50884.0</td>\n",
       "      <td>50884.0</td>\n",
       "    </tr>\n",
       "    <tr>\n",
       "      <th>mean</th>\n",
       "      <td>320.9</td>\n",
       "      <td>189.6</td>\n",
       "      <td>3.6</td>\n",
       "      <td>3.5</td>\n",
       "      <td>3.5</td>\n",
       "      <td>3.5</td>\n",
       "      <td>3.4</td>\n",
       "      <td>3.5</td>\n",
       "      <td>3.6</td>\n",
       "      <td>2.3</td>\n",
       "      <td>3.7</td>\n",
       "      <td>3.5</td>\n",
       "      <td>2.9</td>\n",
       "      <td>3.6</td>\n",
       "      <td>3.5</td>\n",
       "      <td>3.5</td>\n",
       "      <td>3.5</td>\n",
       "    </tr>\n",
       "    <tr>\n",
       "      <th>std</th>\n",
       "      <td>177.9</td>\n",
       "      <td>153.7</td>\n",
       "      <td>0.5</td>\n",
       "      <td>0.6</td>\n",
       "      <td>0.6</td>\n",
       "      <td>0.9</td>\n",
       "      <td>1.0</td>\n",
       "      <td>0.6</td>\n",
       "      <td>0.7</td>\n",
       "      <td>1.9</td>\n",
       "      <td>0.5</td>\n",
       "      <td>0.7</td>\n",
       "      <td>1.3</td>\n",
       "      <td>0.8</td>\n",
       "      <td>0.7</td>\n",
       "      <td>0.7</td>\n",
       "      <td>0.6</td>\n",
       "    </tr>\n",
       "    <tr>\n",
       "      <th>min</th>\n",
       "      <td>2.0</td>\n",
       "      <td>1.0</td>\n",
       "      <td>0.5</td>\n",
       "      <td>0.0</td>\n",
       "      <td>0.0</td>\n",
       "      <td>0.0</td>\n",
       "      <td>0.0</td>\n",
       "      <td>0.0</td>\n",
       "      <td>0.0</td>\n",
       "      <td>0.0</td>\n",
       "      <td>0.0</td>\n",
       "      <td>0.0</td>\n",
       "      <td>0.0</td>\n",
       "      <td>0.0</td>\n",
       "      <td>0.0</td>\n",
       "      <td>0.0</td>\n",
       "      <td>0.0</td>\n",
       "    </tr>\n",
       "    <tr>\n",
       "      <th>25%</th>\n",
       "      <td>177.0</td>\n",
       "      <td>70.0</td>\n",
       "      <td>3.3</td>\n",
       "      <td>3.2</td>\n",
       "      <td>3.3</td>\n",
       "      <td>3.5</td>\n",
       "      <td>3.2</td>\n",
       "      <td>3.2</td>\n",
       "      <td>3.4</td>\n",
       "      <td>0.0</td>\n",
       "      <td>3.4</td>\n",
       "      <td>3.3</td>\n",
       "      <td>2.6</td>\n",
       "      <td>3.2</td>\n",
       "      <td>3.3</td>\n",
       "      <td>3.1</td>\n",
       "      <td>3.2</td>\n",
       "    </tr>\n",
       "    <tr>\n",
       "      <th>50%</th>\n",
       "      <td>318.0</td>\n",
       "      <td>149.0</td>\n",
       "      <td>3.6</td>\n",
       "      <td>3.5</td>\n",
       "      <td>3.6</td>\n",
       "      <td>3.8</td>\n",
       "      <td>3.6</td>\n",
       "      <td>3.5</td>\n",
       "      <td>3.7</td>\n",
       "      <td>3.3</td>\n",
       "      <td>3.8</td>\n",
       "      <td>3.6</td>\n",
       "      <td>3.2</td>\n",
       "      <td>3.8</td>\n",
       "      <td>3.6</td>\n",
       "      <td>3.6</td>\n",
       "      <td>3.6</td>\n",
       "    </tr>\n",
       "    <tr>\n",
       "      <th>75%</th>\n",
       "      <td>475.0</td>\n",
       "      <td>262.0</td>\n",
       "      <td>3.9</td>\n",
       "      <td>3.8</td>\n",
       "      <td>3.8</td>\n",
       "      <td>4.0</td>\n",
       "      <td>3.9</td>\n",
       "      <td>3.8</td>\n",
       "      <td>4.0</td>\n",
       "      <td>4.0</td>\n",
       "      <td>4.0</td>\n",
       "      <td>3.9</td>\n",
       "      <td>3.8</td>\n",
       "      <td>4.0</td>\n",
       "      <td>3.9</td>\n",
       "      <td>3.9</td>\n",
       "      <td>3.9</td>\n",
       "    </tr>\n",
       "    <tr>\n",
       "      <th>max</th>\n",
       "      <td>610.0</td>\n",
       "      <td>615.0</td>\n",
       "      <td>5.0</td>\n",
       "      <td>5.0</td>\n",
       "      <td>5.0</td>\n",
       "      <td>5.0</td>\n",
       "      <td>5.0</td>\n",
       "      <td>5.0</td>\n",
       "      <td>5.0</td>\n",
       "      <td>5.0</td>\n",
       "      <td>5.0</td>\n",
       "      <td>5.0</td>\n",
       "      <td>5.0</td>\n",
       "      <td>5.0</td>\n",
       "      <td>5.0</td>\n",
       "      <td>5.0</td>\n",
       "      <td>5.0</td>\n",
       "    </tr>\n",
       "  </tbody>\n",
       "</table>\n",
       "</div>"
      ],
      "text/plain": [
       "        userid  ratingcount  ratingave   Action  Adventure  Animation  \\\n",
       "count  50884.0      50884.0    50884.0  50884.0    50884.0    50884.0   \n",
       "mean     320.9        189.6        3.6      3.5        3.5        3.5   \n",
       "std      177.9        153.7        0.5      0.6        0.6        0.9   \n",
       "min        2.0          1.0        0.5      0.0        0.0        0.0   \n",
       "25%      177.0         70.0        3.3      3.2        3.3        3.5   \n",
       "50%      318.0        149.0        3.6      3.5        3.6        3.8   \n",
       "75%      475.0        262.0        3.9      3.8        3.8        4.0   \n",
       "max      610.0        615.0        5.0      5.0        5.0        5.0   \n",
       "\n",
       "       Children   Comedy    Crime  Documentary    Drama  Fantasy   Horror  \\\n",
       "count   50884.0  50884.0  50884.0      50884.0  50884.0  50884.0  50884.0   \n",
       "mean        3.4      3.5      3.6          2.3      3.7      3.5      2.9   \n",
       "std         1.0      0.6      0.7          1.9      0.5      0.7      1.3   \n",
       "min         0.0      0.0      0.0          0.0      0.0      0.0      0.0   \n",
       "25%         3.2      3.2      3.4          0.0      3.4      3.3      2.6   \n",
       "50%         3.6      3.5      3.7          3.3      3.8      3.6      3.2   \n",
       "75%         3.9      3.8      4.0          4.0      4.0      3.9      3.8   \n",
       "max         5.0      5.0      5.0          5.0      5.0      5.0      5.0   \n",
       "\n",
       "       Mystery  Romance   Sci-Fi  Thriller  \n",
       "count  50884.0  50884.0  50884.0   50884.0  \n",
       "mean       3.6      3.5      3.5       3.5  \n",
       "std        0.8      0.7      0.7       0.6  \n",
       "min        0.0      0.0      0.0       0.0  \n",
       "25%        3.2      3.3      3.1       3.2  \n",
       "50%        3.8      3.6      3.6       3.6  \n",
       "75%        4.0      3.9      3.9       3.9  \n",
       "max        5.0      5.0      5.0       5.0  "
      ]
     },
     "execution_count": 121,
     "metadata": {},
     "output_type": "execute_result"
    }
   ],
   "source": [
    "user_features.describe()"
   ]
  },
  {
   "cell_type": "markdown",
   "metadata": {},
   "source": [
    "😨 What about NaN values?"
   ]
  },
  {
   "cell_type": "code",
   "execution_count": 122,
   "metadata": {},
   "outputs": [
    {
     "data": {
      "text/plain": [
       "userid         0\n",
       "ratingcount    0\n",
       "ratingave      0\n",
       "Action         0\n",
       "Adventure      0\n",
       "Animation      0\n",
       "Children       0\n",
       "Comedy         0\n",
       "Crime          0\n",
       "Documentary    0\n",
       "Drama          0\n",
       "Fantasy        0\n",
       "Horror         0\n",
       "Mystery        0\n",
       "Romance        0\n",
       "Sci-Fi         0\n",
       "Thriller       0\n",
       "dtype: int64"
      ]
     },
     "execution_count": 122,
     "metadata": {},
     "output_type": "execute_result"
    }
   ],
   "source": [
    "user_features.isnull().sum()"
   ]
  },
  {
   "cell_type": "code",
   "execution_count": 123,
   "metadata": {},
   "outputs": [
    {
     "data": {
      "text/plain": [
       "movieid        0\n",
       "year           0\n",
       "ave rating     0\n",
       "Action         0\n",
       "Adventure      0\n",
       "Animation      0\n",
       "Children       0\n",
       "Comedy         0\n",
       "Crime          0\n",
       "Documentary    0\n",
       "Drama          0\n",
       "Fantasy        0\n",
       "Horror         0\n",
       "Mystery        0\n",
       "Romance        0\n",
       "Sci-Fi         0\n",
       "Thriller       0\n",
       "dtype: int64"
      ]
     },
     "execution_count": 123,
     "metadata": {},
     "output_type": "execute_result"
    }
   ],
   "source": [
    "item_features.isnull().sum()"
   ]
  },
  {
   "cell_type": "markdown",
   "metadata": {},
   "source": [
    "⭕ feedback: No none values...great!😀"
   ]
  },
  {
   "cell_type": "markdown",
   "metadata": {},
   "source": [
    "😱 is it balanced data?"
   ]
  },
  {
   "cell_type": "code",
   "execution_count": 124,
   "metadata": {},
   "outputs": [
    {
     "data": {
      "image/png": "[encoded data removed]",
      "text/plain": [
       "<Figure size 600x600 with 1 Axes>"
      ]
     },
     "metadata": {},
     "output_type": "display_data"
    }
   ],
   "source": [
    "fig = plt.figure(1, figsize=(6,6))\n",
    "\n",
    "slices = list(item_features.sum()[3:])\n",
    "label =user_genres_names[3:]\n",
    "\n",
    "plt.pie(slices, labels=label, \n",
    "        autopct='%1.1f%%', colors= sns.color_palette(\"hls\"),\n",
    "        labeldistance = 1.1, textprops={'fontsize': 12})\n",
    "\n",
    "plt.show()"
   ]
  },
  {
   "cell_type": "markdown",
   "metadata": {},
   "source": [
    "⭕ feedback: Data is almost Balanced...great!😀"
   ]
  },
  {
   "cell_type": "markdown",
   "metadata": {},
   "source": [
    "\n",
    "## 🪚 Preprocessing the data\n",
    " We'll scale the target ratings using a MinMax Scaler to be between -1 and 1."
   ]
  },
  {
   "cell_type": "code",
   "execution_count": 125,
   "metadata": {},
   "outputs": [],
   "source": [
    "item_features = np.array(item_features)\n",
    "user_features = np.array(user_features)\n",
    "y_UserAvgRating = np.array(y_UserAvgRating)"
   ]
  },
  {
   "cell_type": "code",
   "execution_count": 126,
   "metadata": {},
   "outputs": [],
   "source": [
    "#---------scalling-item-features--Mean-normalization------------\n",
    "scalerItem = StandardScaler()\n",
    "scalerItem.fit(item_features)\n",
    "item_features = scalerItem.transform(item_features)"
   ]
  },
  {
   "cell_type": "code",
   "execution_count": 127,
   "metadata": {},
   "outputs": [],
   "source": [
    "#--------scalling-user-features-using--Mean-normalization-------\n",
    "scalerUser = StandardScaler()\n",
    "scalerUser.fit(user_features)\n",
    "user_train = scalerUser.transform(user_features)"
   ]
  },
  {
   "cell_type": "code",
   "execution_count": 128,
   "metadata": {},
   "outputs": [],
   "source": [
    "#--------scalling-average-ratings-using--MinMax-normalization---\n",
    "scalerTarget = MinMaxScaler()\n",
    "scalerTarget.fit(y_UserAvgRating)\n",
    "y_UserAvgRating = scalerTarget.transform(y_UserAvgRating)"
   ]
  },
  {
   "cell_type": "markdown",
   "metadata": {},
   "source": [
    "The scaled, shuffled data now has a mean of zero."
   ]
  },
  {
   "cell_type": "markdown",
   "metadata": {},
   "source": [
    "<h2>Train-Test Split</h2>"
   ]
  },
  {
   "cell_type": "markdown",
   "metadata": {},
   "source": [
    "<img src='images/tts.png' align=left width='700'>"
   ]
  },
  {
   "cell_type": "code",
   "execution_count": 129,
   "metadata": {
    "deletable": false
   },
   "outputs": [],
   "source": [
    "#splitting item features\n",
    "item_train, item_test = train_test_split(item_features,   train_size=0.80, shuffle=True, random_state=1) \n",
    "#splitting user features\n",
    "user_train, user_test = train_test_split(user_features,   train_size=0.80, shuffle=True, random_state=1)\n",
    "#splitting real results\n",
    "y_train, y_test       = train_test_split(y_UserAvgRating, train_size=0.80, shuffle=True, random_state=1)"
   ]
  },
  {
   "cell_type": "markdown",
   "metadata": {},
   "source": [
    "<a name=\"4\"></a>\n",
    "## Neural Network for content-based filtering\n",
    "Now, let's construct a neural network as described in the figure above. "
   ]
  },
  {
   "cell_type": "markdown",
   "metadata": {},
   "source": [
    "\n",
    "<h3> Concept : Content-based filtering</h3>\n",
    "\n",
    "Content-based filtering generates user & movie feature vector has average ratings & other information available about the user and/or movie that may improve the prediction. Informations is provided to a neural network to generates the user and movie vector.\n",
    "<figure>\n",
    "    <img src=\"./images/RecSysNN.png\" align=center  style=\"width:500px;height:280px;\" >\n",
    "</figure>\n",
    "\n",
    "\n",
    " "
   ]
  },
  {
   "cell_type": "code",
   "execution_count": 130,
   "metadata": {
    "deletable": false,
    "id": "CBjZ2HhRwpa0"
   },
   "outputs": [
    {
     "name": "stdout",
     "output_type": "stream",
     "text": [
      "Model: \"model_5\"\n",
      "__________________________________________________________________________________________________\n",
      " Layer (type)                   Output Shape         Param #     Connected to                     \n",
      "==================================================================================================\n",
      " input_9 (InputLayer)           [(None, 14)]         0           []                               \n",
      "                                                                                                  \n",
      " input_10 (InputLayer)          [(None, 16)]         0           []                               \n",
      "                                                                                                  \n",
      " sequential_6 (Sequential)      (None, 32)           40864       ['input_9[0][0]']                \n",
      "                                                                                                  \n",
      " sequential_7 (Sequential)      (None, 32)           41376       ['input_10[0][0]']               \n",
      "                                                                                                  \n",
      " tf.math.l2_normalize_8 (TFOpLa  (None, 32)          0           ['sequential_6[0][0]']           \n",
      " mbda)                                                                                            \n",
      "                                                                                                  \n",
      " tf.math.l2_normalize_9 (TFOpLa  (None, 32)          0           ['sequential_7[0][0]']           \n",
      " mbda)                                                                                            \n",
      "                                                                                                  \n",
      " dot_3 (Dot)                    (None, 1)            0           ['tf.math.l2_normalize_8[0][0]', \n",
      "                                                                  'tf.math.l2_normalize_9[0][0]'] \n",
      "                                                                                                  \n",
      "==================================================================================================\n",
      "Total params: 82,240\n",
      "Trainable params: 82,240\n",
      "Non-trainable params: 0\n",
      "__________________________________________________________________________________________________\n"
     ]
    }
   ],
   "source": [
    "num_outputs = 32\n",
    "tf.random.set_seed(1)\n",
    "\n",
    "num_user_features = user_features.shape[1] - 3  # remove userid, rating count and ave rating during training\n",
    "num_item_features = item_features.shape[1] - 1  # remove movie id during training\n",
    "# Neural Network Architecture\n",
    "\n",
    "# User Network \n",
    "user_NN = tf.keras.models.Sequential([ \n",
    "    tf.keras.layers.Dense(units = 256, activation = 'relu'),\n",
    "    tf.keras.layers.Dense(units = 128, activation = 'relu'),\n",
    "    tf.keras.layers.Dense(units = 32, activation = 'linear')\n",
    "])\n",
    "\n",
    "# Item Network\n",
    "item_NN = tf.keras.models.Sequential([\n",
    "    tf.keras.layers.Dense(units = 256, activation = 'relu'),\n",
    "    tf.keras.layers.Dense(units = 128, activation = 'relu'),\n",
    "    tf.keras.layers.Dense(units = 32, activation = 'linear')\n",
    "])\n",
    "\n",
    "\n",
    "# put input shape for \"UserNetwork\" + normalization tehnique \n",
    "input_user = tf.keras.layers.Input(shape=(num_user_features))\n",
    "vu = user_NN(input_user)\n",
    "vu = tf.linalg.l2_normalize(vu, axis=1)\n",
    "\n",
    "# put input shape for \"ItemNetwork\" + normalization tehnique \n",
    "input_item = tf.keras.layers.Input(shape=(num_item_features))\n",
    "vm = item_NN(input_item)\n",
    "vm = tf.linalg.l2_normalize(vm, axis=1)\n",
    "\n",
    "# compute dot product of the two vectors vu and vm --> predicted rate\n",
    "output = tf.keras.layers.Dot(axes=1)([vu, vm])\n",
    "\n",
    "# specify the inputs and output of the model\n",
    "model = tf.keras.Model([input_user, input_item], output)\n",
    "\n",
    "model.summary()"
   ]
  },
  {
   "cell_type": "markdown",
   "metadata": {},
   "source": [
    "We will use a mean squared error loss and an Adam optimizer."
   ]
  },
  {
   "cell_type": "code",
   "execution_count": 131,
   "metadata": {
    "deletable": false,
    "id": "pGK5MEUowxN4"
   },
   "outputs": [],
   "source": [
    "tf.random.set_seed(1)\n",
    "\n",
    "#Cost_function --> MeanSquaredError\n",
    "cost_fn = tf.keras.losses.MeanSquaredError()\n",
    "\n",
    "#GradientDescentType --> Adam\n",
    "opt = keras.optimizers.Adam(learning_rate=0.01)\n",
    "\n",
    "model.compile(optimizer=opt, loss=cost_fn)"
   ]
  },
  {
   "cell_type": "markdown",
   "metadata": {},
   "source": [
    "## Neural Network Trainning"
   ]
  },
  {
   "cell_type": "code",
   "execution_count": null,
   "metadata": {
    "deletable": false,
    "id": "6zHf7eASw0tN"
   },
   "outputs": [
    {
     "name": "stdout",
     "output_type": "stream",
     "text": [
      "Epoch 1/30\n",
      "1273/1273 [==============================] - 5s 3ms/step - loss: 0.0373\n",
      "Epoch 2/30\n",
      "1273/1273 [==============================] - 3s 3ms/step - loss: 0.0315\n",
      "Epoch 3/30\n",
      "1273/1273 [==============================] - 3s 3ms/step - loss: 0.0304\n",
      "Epoch 4/30\n",
      "1273/1273 [==============================] - 3s 3ms/step - loss: 0.0296\n",
      "Epoch 5/30\n",
      "1273/1273 [==============================] - 3s 2ms/step - loss: 0.0290\n",
      "Epoch 6/30\n",
      "1273/1273 [==============================] - 3s 2ms/step - loss: 0.0288\n",
      "Epoch 7/30\n",
      "1273/1273 [==============================] - 3s 3ms/step - loss: 0.0286\n",
      "Epoch 8/30\n",
      "1273/1273 [==============================] - 3s 2ms/step - loss: 0.0282\n",
      "Epoch 9/30\n",
      "1273/1273 [==============================] - 3s 2ms/step - loss: 0.0281\n",
      "Epoch 10/30\n",
      "1273/1273 [==============================] - 3s 2ms/step - loss: 0.0278\n",
      "Epoch 11/30\n",
      "1273/1273 [==============================] - 3s 2ms/step - loss: 0.0273\n",
      "Epoch 12/30\n",
      "1273/1273 [==============================] - 3s 3ms/step - loss: 0.0269\n",
      "Epoch 13/30\n",
      "1273/1273 [==============================] - 4s 3ms/step - loss: 0.0265\n",
      "Epoch 14/30\n",
      "1273/1273 [==============================] - 3s 3ms/step - loss: 0.0262\n",
      "Epoch 15/30\n",
      "1273/1273 [==============================] - 3s 3ms/step - loss: 0.0260\n",
      "Epoch 16/30\n",
      "1273/1273 [==============================] - 3s 3ms/step - loss: 0.0260\n",
      "Epoch 17/30\n",
      "1273/1273 [==============================] - 3s 2ms/step - loss: 0.0256\n",
      "Epoch 18/30\n",
      "1273/1273 [==============================] - 3s 2ms/step - loss: 0.0254\n",
      "Epoch 19/30\n",
      "1273/1273 [==============================] - 3s 3ms/step - loss: 0.0251\n",
      "Epoch 20/30\n",
      "1273/1273 [==============================] - 3s 3ms/step - loss: 0.0250\n",
      "Epoch 21/30\n",
      "1273/1273 [==============================] - 3s 3ms/step - loss: 0.0248\n",
      "Epoch 22/30\n",
      "1273/1273 [==============================] - 4s 3ms/step - loss: 0.0245\n",
      "Epoch 23/30\n",
      "1273/1273 [==============================] - 4s 3ms/step - loss: 0.0243\n",
      "Epoch 24/30\n",
      "1273/1273 [==============================] - 3s 3ms/step - loss: 0.0242\n",
      "Epoch 25/30\n",
      "1273/1273 [==============================] - 3s 3ms/step - loss: 0.0240\n",
      "Epoch 26/30\n",
      "1273/1273 [==============================] - 4s 3ms/step - loss: 0.0238\n",
      "Epoch 27/30\n",
      "1040/1273 [=======================>......] - ETA: 0s - loss: 0.0234"
     ]
    }
   ],
   "source": [
    "tf.random.set_seed(1)\n",
    "history = model.fit([np.array(user_train)[:, 3:], np.array(item_train)[:, 1:]], y_train, epochs=30)"
   ]
  },
  {
   "cell_type": "markdown",
   "metadata": {},
   "source": [
    "Evaluate the model to determine loss on the test data. "
   ]
  },
  {
   "cell_type": "code",
   "execution_count": null,
   "metadata": {
    "deletable": false
   },
   "outputs": [],
   "source": [
    "model.evaluate([np.array(user_test)[:, 3:], np.array(item_test)[:, 1:]], y_test)"
   ]
  },
  {
   "cell_type": "markdown",
   "metadata": {},
   "source": [
    "It is comparable to the training loss indicating the model has <b>not overfit the training data</b>."
   ]
  },
  {
   "cell_type": "markdown",
   "metadata": {
    "id": "Xsre-gquwEls"
   },
   "source": [
    "## Predictions for a new user : Try\n",
    "Change user content to match your own preferences & see what the model suggests.</br>\n",
    "Note : <b>ratings are between 0.5 and 5.0</b>."
   ]
  },
  {
   "cell_type": "code",
   "execution_count": null,
   "metadata": {},
   "outputs": [],
   "source": [
    "item_vecs = pd.read_csv('./data/content_item_vecs.csv')\n",
    "item_vecs = np.array(item_vecs)\n",
    "\n",
    "movie_list = pd.read_csv('./data/content_movie_list.csv')\n",
    "movie_dict = {row['movieId']: {'title': row['title'], 'genres': row['genres']} for _, row in movie_list.iterrows()}"
   ]
  },
  {
   "cell_type": "code",
   "execution_count": null,
   "metadata": {},
   "outputs": [],
   "source": [
    "def print_pred_movies(y_p, item, movie_dict, maxcount=10):\n",
    "    # Create a DataFrame to hold the results\n",
    "    columns = [\"y_p\", \"movie id\", \"rating ave\", \"title\", \"genres\"]\n",
    "    results = pd.DataFrame(columns=columns)\n",
    "\n",
    "    for i in range(min(maxcount, y_p.shape[0])):\n",
    "        movie_id = int(item[i, 0])\n",
    "        row = {\n",
    "            \"y_p\": round(y_p[i, 0], 1),\n",
    "            \"movie id\": movie_id,\n",
    "            \"rating ave\": round(float(item[i, 2]), 1),\n",
    "            \"title\": movie_dict[movie_id]['title'],\n",
    "            \"genres\": movie_dict[movie_id]['genres']\n",
    "        }\n",
    "        results = results.append(row, ignore_index=True)\n",
    "\n",
    "    return results"
   ]
  },
  {
   "cell_type": "markdown",
   "metadata": {},
   "source": [
    "<b>Enter average rating for each genre based on your prefrences </b>"
   ]
  },
  {
   "cell_type": "code",
   "execution_count": null,
   "metadata": {
    "deletable": false,
    "id": "4_7nZyPiVJ4r"
   },
   "outputs": [],
   "source": [
    "\n",
    "new_user_id = 5003\n",
    "new_rating_ave = 0.0\n",
    "#-----enter-here--------\n",
    "new_action = 0.0\n",
    "new_adventure = 0.0\n",
    "new_animation = 0.0\n",
    "new_childrens = 0.0\n",
    "new_comedy = 0.0\n",
    "new_crime = 0.5\n",
    "new_documentary = 0.0\n",
    "new_drama = 0.0\n",
    "new_fantasy = 0.0\n",
    "new_horror = 5.0\n",
    "new_mystery = 1.0\n",
    "new_romance = 0.0\n",
    "new_scifi = 0.0\n",
    "new_thriller = 0.0\n",
    "#-----------------------\n",
    "new_rating_count = 3\n",
    "\n",
    "user_vec = np.array([[new_user_id, new_rating_count, new_rating_ave,\n",
    "                      new_action, new_adventure, new_animation, new_childrens,\n",
    "                      new_comedy, new_crime, new_documentary,\n",
    "                      new_drama, new_fantasy, new_horror, new_mystery,\n",
    "                      new_romance, new_scifi, new_thriller]])\n",
    "\n",
    "\n",
    "\n",
    "#--------------------------Don't-touch-anyCode-below-------------------------------------\n",
    "\n",
    "#Find the top-rated movies for the new user.\n",
    "\n",
    "# Generate UserVector\n",
    "user_vecs = np.tile(user_vec, (len(item_vecs), 1))\n",
    "\n",
    "# Scale UserVector\n",
    "suser_vecs = scalerUser.transform(user_vecs)\n",
    "# Scale ItemVector\n",
    "sitem_vecs = scalerItem.transform(item_vecs)\n",
    "\n",
    "# Make Prediction\n",
    "y_p = model.predict([suser_vecs[:, 3:], sitem_vecs[:, 1:]])\n",
    "\n",
    "# unscale y prediction \n",
    "y_pu = scalerTarget.inverse_transform(y_p)\n",
    "\n",
    "# Result Sorting\n",
    "sorted_index = np.argsort(-y_pu,axis=0).reshape(-1).tolist()  #largest rating first\n",
    "sorted_ypu   = y_pu[sorted_index]\n",
    "sorted_items = item_vecs[sorted_index]  #using unscaled vectors for display\n",
    "\n",
    "print_pred_movies(sorted_ypu, sorted_items, movie_dict, maxcount = 10)"
   ]
  },
  {
   "cell_type": "markdown",
   "metadata": {},
   "source": [
    "The model prediction is generally not very accurate predictor of how a user rates specific movies.</br>\n",
    "This is especially true if the user rating is significantly different than the user's genre average."
   ]
  },
  {
   "cell_type": "markdown",
   "metadata": {},
   "source": [
    "<a name=\"5.3\"></a>\n",
    "## Finding Similar Items\n",
    "The neural network produces 2 feature vectors, a user feature vector $v_u$, and a movie feature vector, $v_m$.</br>\n",
    "These are 32 entry vectors whose values are difficult to interpret. However, similar items will have similar vectors. This information can be used to make recommendations. For example, if a user has rated \"Toy Story 3\" highly, one could recommend similar movies by selecting movies with similar movie feature vectors.\n",
    "\n",
    "A similarity measure is the squared distance between the two vectors $ \\mathbf{v_m^{(k)}}$ and $\\mathbf{v_m^{(i)}}$ :\n",
    "$$\\left\\Vert \\mathbf{v_m^{(k)}} - \\mathbf{v_m^{(i)}}  \\right\\Vert^2 = \\sum_{l=1}^{n}(v_{m_l}^{(k)} - v_{m_l}^{(i)})^2\\$$"
   ]
  },
  {
   "cell_type": "code",
   "execution_count": null,
   "metadata": {
    "deletable": false,
    "editable": false
   },
   "outputs": [],
   "source": [
    "input_item_m = tf.keras.layers.Input(shape=(num_item_features))    # input layer\n",
    "vm_m = item_NN(input_item_m)                                       # use the trained item_NN\n",
    "vm_m = tf.linalg.l2_normalize(vm_m, axis=1)                        # incorporate normalization as was done in the original model\n",
    "model_m = tf.keras.Model(input_item_m, vm_m)                                \n",
    "model_m.summary()"
   ]
  },
  {
   "cell_type": "markdown",
   "metadata": {},
   "source": [
    "Once we have a movie model, we can create a set of movie feature vectors using the model to predict using a set of item/movie vectors as input.`item_vecs` is a set of all of the movie vectors. must be scaled to use with the trained model. The result of the prediction is a 32 entry feature vector for each movie."
   ]
  },
  {
   "cell_type": "code",
   "execution_count": null,
   "metadata": {},
   "outputs": [],
   "source": [
    "scaled_item_vecs = scalerItem.transform(item_vecs)\n",
    "vms = model_m.predict(scaled_item_vecs[:,1:])\n",
    "print(f\"size of all predicted movie feature vectors: {vms.shape}\")"
   ]
  },
  {
   "cell_type": "markdown",
   "metadata": {},
   "source": [
    "Finally, compute a matrix of the squared distance between each movie feature vector and all other movie feature vectors:\n",
    "<figure>\n",
    "    <left> <img src=\"./images/distmatrix.PNG\"   style=\"width:400px;height:225px;\" ></center>\n",
    "</figure>"
   ]
  },
  {
   "cell_type": "markdown",
   "metadata": {},
   "source": [
    "We can then find the closest movie by finding the minimum along each row. We will make use of `ma.masked_array` to avoid selecting the same movie. The masked values along the diagonal won't be included in the computation."
   ]
  },
  {
   "cell_type": "code",
   "execution_count": null,
   "metadata": {},
   "outputs": [],
   "source": [
    "def sq_dist(a, b):\n",
    "    d = sum(np.square(a-b))   \n",
    "    return d"
   ]
  },
  {
   "cell_type": "code",
   "execution_count": null,
   "metadata": {
    "deletable": false,
    "editable": false
   },
   "outputs": [],
   "source": [
    "count = 50  # number of movies to display\n",
    "dim = len(vms)\n",
    "dist = np.zeros((dim,dim))\n",
    "\n",
    "for i in range(dim):\n",
    "    for j in range(dim):\n",
    "        dist[i,j] = sq_dist(vms[i, :], vms[j, :])\n",
    "        \n",
    "m_dist = ma.masked_array(dist, mask=np.identity(dist.shape[0]))  # mask the diagonal\n",
    "\n",
    "disp = [[\"movie1\", \"genres\", \"movie2\", \"genres\"]]\n",
    "for i in range(count):\n",
    "    min_idx = np.argmin(m_dist[i])\n",
    "    movie1_id = int(item_vecs[i,0])\n",
    "    movie2_id = int(item_vecs[min_idx,0])\n",
    "    disp.append( [movie_dict[movie1_id]['title'], movie_dict[movie1_id]['genres'],\n",
    "                  movie_dict[movie2_id]['title'], movie_dict[movie1_id]['genres']]\n",
    "               )\n",
    "table = tabulate.tabulate(disp, tablefmt='html', headers=\"firstrow\")\n",
    "table"
   ]
  },
  {
   "cell_type": "markdown",
   "metadata": {},
   "source": [
    "The results show the model will generally suggest a movie with similar genre's."
   ]
  },
  {
   "cell_type": "markdown",
   "metadata": {},
   "source": [
    "## so glad you got this far 😃❤️"
   ]
  },
  {
   "cell_type": "code",
   "execution_count": null,
   "metadata": {},
   "outputs": [],
   "source": []
  }
 ],
 "metadata": {
  "colab": {
   "authorship_tag": "ABX9TyOFYdA6zQJ1FpgYwYmRIeXa",
   "collapsed_sections": [],
   "name": "Recsys_NN.ipynb",
   "private_outputs": true,
   "provenance": [
    {
     "file_id": "1RO0HLb7kRE0Tj_0D4E5I-vQz2QLu3CUm",
     "timestamp": 1655169179306
    }
   ]
  },
  "gpuClass": "standard",
  "kernelspec": {
   "display_name": "Python 3 (ipykernel)",
   "language": "python",
   "name": "python3"
  },
  "language_info": {
   "codemirror_mode": {
    "name": "ipython",
    "version": 3
   },
   "file_extension": ".py",
   "mimetype": "text/x-python",
   "name": "python",
   "nbconvert_exporter": "python",
   "pygments_lexer": "ipython3",
   "version": "3.7.12"
  }
 },
 "nbformat": 4,
 "nbformat_minor": 4
}
